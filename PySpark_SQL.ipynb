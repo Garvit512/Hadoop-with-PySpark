{
 "cells": [
  {
   "cell_type": "markdown",
   "metadata": {},
   "source": [
    "# Data Analysis with Spark (sparkSQL) & hadoop using Python"
   ]
  },
  {
   "cell_type": "code",
   "execution_count": 1,
   "metadata": {},
   "outputs": [],
   "source": [
    "import findspark\n",
    "findspark.init()\n",
    "\n",
    "# importing essential libraries\n",
    "from pyspark import *\n",
    "import pyspark.sql as sql\n",
    "from pyspark.sql import *\n",
    "\n",
    "# creating spark session (entry point of PySpark)\n",
    "ss = sql.SparkSession.builder.appName('testing').getOrCreate()"
   ]
  },
  {
   "cell_type": "markdown",
   "metadata": {},
   "source": [
    "## Creating custom Dataframe in PySpark"
   ]
  },
  {
   "cell_type": "code",
   "execution_count": 2,
   "metadata": {},
   "outputs": [],
   "source": [
    "Employee = Row(\"firstName\", \"lastName\", \"email\", \"salary\")"
   ]
  },
  {
   "cell_type": "code",
   "execution_count": 3,
   "metadata": {},
   "outputs": [],
   "source": [
    "employee1 = Employee('Basher', 'armbrust', 'bash@edureka.co', 100000)\n",
    "employee2 = Employee('Daniel', 'meng', 'daniel@stanford.edu', 120000 )\n",
    "employee3 = Employee('Muriel', None, 'muriel@waterloo.edu', 140000 )\n",
    "employee4 = Employee('Rachel', 'wendell', 'rach_3@edureka.co', 160000 )\n",
    "employee5 = Employee('Zach', 'galifianakis', 'zach_g@edureka.co', 160000 )\n",
    "\n",
    "department1 = Row(id='123456', name='HR')\n",
    "department2 = Row(id='789012', name='OPS')\n",
    "department3 = Row(id='345678', name='FN')\n",
    "department4 = Row(id='901234', name='DEV')"
   ]
  },
  {
   "cell_type": "code",
   "execution_count": 4,
   "metadata": {},
   "outputs": [],
   "source": [
    "departmentWithEmployees1 = Row(department=department1, employees=[employee1, employee2, employee5])\n",
    "departmentWithEmployees2 = Row(department=department2, employees=[employee3, employee4])\n",
    "departmentWithEmployees3 = Row(department=department3, employees=[employee1, employee4, employee3])\n",
    "departmentWithEmployees4 = Row(department=department4, employees=[employee2, employee3])"
   ]
  },
  {
   "cell_type": "code",
   "execution_count": 5,
   "metadata": {},
   "outputs": [],
   "source": [
    "departmentsWithEmployees_Seq = [departmentWithEmployees1, departmentWithEmployees2]"
   ]
  },
  {
   "cell_type": "code",
   "execution_count": 6,
   "metadata": {},
   "outputs": [],
   "source": [
    "dframe = ss.createDataFrame(departmentsWithEmployees_Seq)"
   ]
  },
  {
   "cell_type": "code",
   "execution_count": 7,
   "metadata": {},
   "outputs": [
    {
     "name": "stdout",
     "output_type": "stream",
     "text": [
      "+-------------+--------------------+\n",
      "|   department|           employees|\n",
      "+-------------+--------------------+\n",
      "| [123456, HR]|[[Basher, armbrus...|\n",
      "|[789012, OPS]|[[Muriel,, muriel...|\n",
      "+-------------+--------------------+\n",
      "\n"
     ]
    }
   ],
   "source": [
    "dframe.show()"
   ]
  },
  {
   "cell_type": "markdown",
   "metadata": {},
   "source": [
    "## Importing External Data & making Dataframe (from Local)"
   ]
  },
  {
   "cell_type": "code",
   "execution_count": 8,
   "metadata": {},
   "outputs": [],
   "source": [
    "dataset = ss.read.csv('/home/garvit/BigData Training Stuff/PySpark/Data_1/stock_data.csv',header=True)"
   ]
  },
  {
   "cell_type": "code",
   "execution_count": 9,
   "metadata": {},
   "outputs": [
    {
     "name": "stdout",
     "output_type": "stream",
     "text": [
      "+----------+------+----+----+-----+-----+----+---------+---------+-----------+----------+-----------+------------+\n",
      "|    SYMBOL|SERIES|OPEN|HIGH|  LOW|CLOSE|LAST|PREVCLOSE|TOTTRDQTY|  TOTTRDVAL| TIMESTAMP|TOTALTRADES|        ISIN|\n",
      "+----------+------+----+----+-----+-----+----+---------+---------+-----------+----------+-----------+------------+\n",
      "| 20MICRONS|    EQ|37.8|37.8|36.15|36.85|37.4|    37.05|    27130|   994657.9|2017-06-28|        202|INE144J01027|\n",
      "|3IINFOTECH|    EQ| 4.1|4.85|  4.0| 4.55|4.65|     4.05| 20157058|92148517.65|2017-06-28|       7353|INE748C01020|\n",
      "+----------+------+----+----+-----+-----+----+---------+---------+-----------+----------+-----------+------------+\n",
      "only showing top 2 rows\n",
      "\n"
     ]
    }
   ],
   "source": [
    "dataset.show(2)"
   ]
  },
  {
   "cell_type": "code",
   "execution_count": 10,
   "metadata": {},
   "outputs": [
    {
     "name": "stdout",
     "output_type": "stream",
     "text": [
      "root\n",
      " |-- SYMBOL: string (nullable = true)\n",
      " |-- SERIES: string (nullable = true)\n",
      " |-- OPEN: string (nullable = true)\n",
      " |-- HIGH: string (nullable = true)\n",
      " |-- LOW: string (nullable = true)\n",
      " |-- CLOSE: string (nullable = true)\n",
      " |-- LAST: string (nullable = true)\n",
      " |-- PREVCLOSE: string (nullable = true)\n",
      " |-- TOTTRDQTY: string (nullable = true)\n",
      " |-- TOTTRDVAL: string (nullable = true)\n",
      " |-- TIMESTAMP: string (nullable = true)\n",
      " |-- TOTALTRADES: string (nullable = true)\n",
      " |-- ISIN: string (nullable = true)\n",
      "\n"
     ]
    }
   ],
   "source": [
    "dataset.printSchema()"
   ]
  },
  {
   "cell_type": "code",
   "execution_count": 11,
   "metadata": {},
   "outputs": [
    {
     "data": {
      "text/plain": [
       "846404"
      ]
     },
     "execution_count": 11,
     "metadata": {},
     "output_type": "execute_result"
    }
   ],
   "source": [
    "dataset.count()"
   ]
  },
  {
   "cell_type": "code",
   "execution_count": 12,
   "metadata": {},
   "outputs": [
    {
     "data": {
      "text/plain": [
       "['SYMBOL',\n",
       " 'SERIES',\n",
       " 'OPEN',\n",
       " 'HIGH',\n",
       " 'LOW',\n",
       " 'CLOSE',\n",
       " 'LAST',\n",
       " 'PREVCLOSE',\n",
       " 'TOTTRDQTY',\n",
       " 'TOTTRDVAL',\n",
       " 'TIMESTAMP',\n",
       " 'TOTALTRADES',\n",
       " 'ISIN']"
      ]
     },
     "execution_count": 12,
     "metadata": {},
     "output_type": "execute_result"
    }
   ],
   "source": [
    "dataset.columns"
   ]
  },
  {
   "cell_type": "code",
   "execution_count": 13,
   "metadata": {},
   "outputs": [
    {
     "data": {
      "text/plain": [
       "13"
      ]
     },
     "execution_count": 13,
     "metadata": {},
     "output_type": "execute_result"
    }
   ],
   "source": [
    "len(dataset.columns)"
   ]
  },
  {
   "cell_type": "markdown",
   "metadata": {},
   "source": [
    "### describing a column using describe() function"
   ]
  },
  {
   "cell_type": "code",
   "execution_count": 14,
   "metadata": {},
   "outputs": [
    {
     "name": "stdout",
     "output_type": "stream",
     "text": [
      "+-------+------------------+\n",
      "|summary|       totaltrades|\n",
      "+-------+------------------+\n",
      "|  count|            846404|\n",
      "|   mean| 5013.823219171932|\n",
      "| stddev|14901.118242887595|\n",
      "|    min|                 1|\n",
      "|    max|             99995|\n",
      "+-------+------------------+\n",
      "\n"
     ]
    }
   ],
   "source": [
    "dataset.describe('totaltrades').show()"
   ]
  },
  {
   "cell_type": "markdown",
   "metadata": {},
   "source": [
    "#### selecting multiple columns"
   ]
  },
  {
   "cell_type": "code",
   "execution_count": 15,
   "metadata": {},
   "outputs": [
    {
     "name": "stdout",
     "output_type": "stream",
     "text": [
      "+----------+-----------+\n",
      "|    symbol|totaltrades|\n",
      "+----------+-----------+\n",
      "| 20MICRONS|        202|\n",
      "|3IINFOTECH|       7353|\n",
      "|   3MINDIA|        748|\n",
      "|   63MOONS|        437|\n",
      "|   8KMILES|       1866|\n",
      "+----------+-----------+\n",
      "only showing top 5 rows\n",
      "\n"
     ]
    }
   ],
   "source": [
    "dataset.select('symbol','totaltrades').show(5)"
   ]
  },
  {
   "cell_type": "markdown",
   "metadata": {},
   "source": [
    "#### filtering data using filter() function"
   ]
  },
  {
   "cell_type": "code",
   "execution_count": 16,
   "metadata": {},
   "outputs": [
    {
     "data": {
      "text/plain": [
       "739199"
      ]
     },
     "execution_count": 16,
     "metadata": {},
     "output_type": "execute_result"
    }
   ],
   "source": [
    "dataset.filter(dataset.SERIES=='EQ').count()"
   ]
  },
  {
   "cell_type": "markdown",
   "metadata": {},
   "source": [
    "#### grouping data using groupby() function"
   ]
  },
  {
   "cell_type": "code",
   "execution_count": 17,
   "metadata": {},
   "outputs": [
    {
     "data": {
      "text/plain": [
       "58291"
      ]
     },
     "execution_count": 17,
     "metadata": {},
     "output_type": "execute_result"
    }
   ],
   "source": [
    "dataset.select('series','high').groupBy('high').avg().count()"
   ]
  },
  {
   "cell_type": "markdown",
   "metadata": {},
   "source": [
    "## Dataframe with SQL"
   ]
  },
  {
   "cell_type": "code",
   "execution_count": 18,
   "metadata": {},
   "outputs": [
    {
     "name": "stdout",
     "output_type": "stream",
     "text": [
      "+----------+------+----+----+-----+-----+----+---------+---------+-----------+----------+-----------+------------+\n",
      "|    SYMBOL|SERIES|OPEN|HIGH|  LOW|CLOSE|LAST|PREVCLOSE|TOTTRDQTY|  TOTTRDVAL| TIMESTAMP|TOTALTRADES|        ISIN|\n",
      "+----------+------+----+----+-----+-----+----+---------+---------+-----------+----------+-----------+------------+\n",
      "| 20MICRONS|    EQ|37.8|37.8|36.15|36.85|37.4|    37.05|    27130|   994657.9|2017-06-28|        202|INE144J01027|\n",
      "|3IINFOTECH|    EQ| 4.1|4.85|  4.0| 4.55|4.65|     4.05| 20157058|92148517.65|2017-06-28|       7353|INE748C01020|\n",
      "+----------+------+----+----+-----+-----+----+---------+---------+-----------+----------+-----------+------------+\n",
      "only showing top 2 rows\n",
      "\n"
     ]
    }
   ],
   "source": [
    "dataset.show(2)"
   ]
  },
  {
   "cell_type": "markdown",
   "metadata": {},
   "source": [
    "#### registering \"Dataframe\" as  temperory \"Table\""
   ]
  },
  {
   "cell_type": "code",
   "execution_count": 19,
   "metadata": {},
   "outputs": [],
   "source": [
    "sql.SQLContext(sparkSession=ss, sparkContext=ss.sparkContext).registerDataFrameAsTable(dataset,'stock_data')\n",
    "# enabling backword compability by passing parameters in SQLContext()"
   ]
  },
  {
   "cell_type": "markdown",
   "metadata": {},
   "source": [
    "#### Writing SQL query"
   ]
  },
  {
   "cell_type": "code",
   "execution_count": 20,
   "metadata": {},
   "outputs": [],
   "source": [
    "df2 = sql.SQLContext(sparkContext=ss.sparkContext, sparkSession=ss) \\\n",
    ".sql('select * from stock_data where TOTALTRADES=99995')"
   ]
  },
  {
   "cell_type": "code",
   "execution_count": 21,
   "metadata": {},
   "outputs": [
    {
     "name": "stdout",
     "output_type": "stream",
     "text": [
      "+---------+------+-----+-----+-----+------+------+---------+---------+-------------+----------+-----------+------------+\n",
      "|   SYMBOL|SERIES| OPEN| HIGH|  LOW| CLOSE|  LAST|PREVCLOSE|TOTTRDQTY|    TOTTRDVAL| TIMESTAMP|TOTALTRADES|        ISIN|\n",
      "+---------+------+-----+-----+-----+------+------+---------+---------+-------------+----------+-----------+------------+\n",
      "|TATASTEEL|    EQ|327.5|336.2|326.0|332.85|332.55|    324.5| 10284415|3411250923.95|2016-04-13|      99995|INE081A01012|\n",
      "+---------+------+-----+-----+-----+------+------+---------+---------+-------------+----------+-----------+------------+\n",
      "\n"
     ]
    }
   ],
   "source": [
    "df2.show()"
   ]
  },
  {
   "cell_type": "code",
   "execution_count": 22,
   "metadata": {},
   "outputs": [
    {
     "name": "stdout",
     "output_type": "stream",
     "text": [
      "+------+------+\n",
      "|SERIES|    tt|\n",
      "+------+------+\n",
      "|    EQ|739199|\n",
      "|    BE| 37428|\n",
      "|    SM| 11229|\n",
      "|    N6|  5080|\n",
      "|    N2|  4828|\n",
      "|    N4|  3722|\n",
      "|    N5|  3661|\n",
      "|    N1|  3576|\n",
      "|    N3|  3098|\n",
      "|    N8|  2884|\n",
      "|    BZ|  2825|\n",
      "|  null|  2457|\n",
      "|    GB|  2343|\n",
      "|    N9|  2021|\n",
      "|    N7|  1658|\n",
      "|    NE|  1602|\n",
      "|    NB|  1467|\n",
      "|    NC|  1195|\n",
      "|    ND|  1046|\n",
      "|    P2|   923|\n",
      "+------+------+\n",
      "only showing top 20 rows\n",
      "\n"
     ]
    }
   ],
   "source": [
    "sql.SQLContext(sparkSession=ss, sparkContext = ss.sparkContext) \\\n",
    ".sql('select SERIES,count(TOTALTRADES) as tt from stock_data group by SERIES order by tt desc').show()"
   ]
  },
  {
   "cell_type": "code",
   "execution_count": null,
   "metadata": {},
   "outputs": [],
   "source": []
  }
 ],
 "metadata": {
  "kernelspec": {
   "display_name": "Python 3",
   "language": "python",
   "name": "python3"
  },
  "language_info": {
   "codemirror_mode": {
    "name": "ipython",
    "version": 3
   },
   "file_extension": ".py",
   "mimetype": "text/x-python",
   "name": "python",
   "nbconvert_exporter": "python",
   "pygments_lexer": "ipython3",
   "version": "3.7.1"
  }
 },
 "nbformat": 4,
 "nbformat_minor": 2
}
