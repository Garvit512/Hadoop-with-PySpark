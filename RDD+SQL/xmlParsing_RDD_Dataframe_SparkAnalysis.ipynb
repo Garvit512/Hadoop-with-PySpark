{
 "cells": [
  {
   "cell_type": "markdown",
   "metadata": {},
   "source": [
    "# Pyspark Assignment  {TASK-3}\n",
    "# (by Garvit)"
   ]
  },
  {
   "cell_type": "markdown",
   "metadata": {},
   "source": [
    "#### References:\n",
    "http://infohost.nmt.edu/tcc/help/pubs/pylxml/web/Element-getiterator.html\n",
    "\n",
    "https://intellipaat.com/tutorial/spark-tutorial/working-with-keyvalue-pairs/"
   ]
  },
  {
   "cell_type": "code",
   "execution_count": 232,
   "metadata": {},
   "outputs": [],
   "source": [
    "import findspark\n",
    "findspark.init()\n",
    "\n",
    "import xmltodict\n",
    "import pprint\n",
    "import pyspark.sql as sql\n",
    "ss = sql.SparkSession.builder.appName('spark assignment').getOrCreate()\n",
    "sc = ss.sparkContext"
   ]
  },
  {
   "cell_type": "markdown",
   "metadata": {},
   "source": [
    "## XML (Tree based) Parsing with Python"
   ]
  },
  {
   "cell_type": "code",
   "execution_count": 4,
   "metadata": {},
   "outputs": [],
   "source": [
    "import xml.etree.ElementTree as ET\n",
    "F1_tree = ET.parse('DS1.xml')\n",
    "F2_tree = ET.parse('DS2.xml')\n",
    "root1 = F1_tree.getroot()\n",
    "root2 = F2_tree.getroot()"
   ]
  },
  {
   "cell_type": "markdown",
   "metadata": {},
   "source": [
    "##### Function for Parse all data from XML file"
   ]
  },
  {
   "cell_type": "code",
   "execution_count": 5,
   "metadata": {},
   "outputs": [
    {
     "name": "stdout",
     "output_type": "stream",
     "text": [
      "FILE-1 Raw Data \n",
      "\n",
      "[('fullname', 'raymond_Tschui'), ('city', 'New York'), ('state', 'NY'), ('country', 'US'), ('degree', \"Bachelor's Degree\"), ('major', 'Hotel administration'), ('fullname', 'raymond_Tschui'), ('city', 'New York'), ('state', 'NY'), ('country', 'US'), ('degree', \"Master's Degree\"), ('major', 'Hotel administration'), ('fullname', 'vinchi_Bolt'), ('city', 'Boston'), ('state', 'Massachusetts'), ('country', 'US'), ('degree', \"Bachelor's Degree\"), ('major', 'Hotel administration'), ('fullname', 'vinchi_Bolt'), ('city', 'Boston'), ('state', 'Massachusetts'), ('country', 'CAN'), ('degree', \"Master's Degree\"), ('major', 'Hotel administration')]\n",
      "\n",
      " ---------------------------------- \n",
      "\n",
      "FILE-2 Raw Data \n",
      "\n",
      "[('givenname', 'Raymond'), ('surname', 'Tschui'), ('title', 'Front Desk Assistant'), ('employer', 'Hilton Hotel Corporation'), ('description', 'Working as a front desk Assistant'), ('Salary', '50,000 USD'), ('title', 'Front Desk Assistant '), ('employer', 'Taj Hotel Corporation'), ('description', 'Working as a front desk Assistant'), ('Salary', '100,000 USD'), ('degree', \"Bachelor's Degree\"), ('major', 'Hotel administration'), ('givenname', 'Raymond'), ('surname', 'Tschui'), ('title', 'Front Desk Assistant'), ('employer', 'Hilton Hotel Corporation'), ('description', 'Working as a front desk Assistant'), ('Salary', '150,000 USD'), ('title', 'Front Desk Assistant '), ('employer', 'Taj Hotel Corporation'), ('description', 'Working as a front desk Assistant'), ('Salary', '200,000 USD'), ('degree', \"Master's Degree\"), ('major', 'Hotel administration'), ('givenname', 'Vinchi'), ('surname', 'Bolt'), ('title', 'Front Desk Assistant'), ('employer', 'Hilton Hotel Corporation'), ('description', 'Working as a front desk Assistant'), ('Salary', '50,000 USD'), ('title', 'Front Desk Assistant '), ('employer', 'Taj Hotel Corporation'), ('description', 'Working as a front desk Assistant'), ('Salary', '100,000 USD'), ('degree', \"Bachelor's Degree\"), ('major', 'Hotel administration'), ('givenname', 'Vinchi'), ('surname', 'Bolt'), ('title', 'Front Desk Assistant'), ('employer', 'Hilton Hotel Corporation'), ('description', 'Working as a front desk Assistant'), ('Salary', '120,000 USD'), ('title', 'Front Desk Assistant '), ('employer', 'Taj Hotel Corporation'), ('description', 'Working as a front desk Assistant'), ('Salary', '180,000 USD'), ('degree', \"Master's Degree\"), ('major', 'Hotel administration')]\n"
     ]
    }
   ],
   "source": [
    "def parser(tree):\n",
    "    data = []\n",
    "    for i in tree.getiterator():\n",
    "        if i.text.strip()!='':\n",
    "                data.append((i.tag,i.text))\n",
    "    return data\n",
    "\n",
    "aa = parser(F1_tree)\n",
    "bb = parser(F2_tree)\n",
    "\n",
    "print('FILE-1 Raw Data','\\n')\n",
    "print(aa)\n",
    "print('\\n','----------------------------------','\\n')\n",
    "print('FILE-2 Raw Data','\\n')\n",
    "print(bb)"
   ]
  },
  {
   "cell_type": "markdown",
   "metadata": {},
   "source": [
    "##### Function to convert Raw data into list of tuples"
   ]
  },
  {
   "cell_type": "code",
   "execution_count": 6,
   "metadata": {},
   "outputs": [
    {
     "name": "stdout",
     "output_type": "stream",
     "text": [
      "FILE-1 Data in list of tuple \n",
      "\n",
      "[[('fullname', 'raymond_Tschui'), ('city', 'New York'), ('state', 'NY'), ('country', 'US'), ('degree', \"Bachelor's Degree\"), ('major', 'Hotel administration')], [('fullname', 'raymond_Tschui'), ('city', 'New York'), ('state', 'NY'), ('country', 'US'), ('degree', \"Master's Degree\"), ('major', 'Hotel administration')], [('fullname', 'vinchi_Bolt'), ('city', 'Boston'), ('state', 'Massachusetts'), ('country', 'US'), ('degree', \"Bachelor's Degree\"), ('major', 'Hotel administration')], [('fullname', 'vinchi_Bolt'), ('city', 'Boston'), ('state', 'Massachusetts'), ('country', 'CAN'), ('degree', \"Master's Degree\"), ('major', 'Hotel administration')]]\n",
      "\n",
      " ---------------------------------- \n",
      "\n",
      "FILE-2 Data in list of tuple \n",
      "\n",
      "[[('givenname', 'Raymond'), ('surname', 'Tschui'), ('title', 'Front Desk Assistant'), ('employer', 'Hilton Hotel Corporation'), ('description', 'Working as a front desk Assistant'), ('Salary', '50,000 USD'), ('title', 'Front Desk Assistant '), ('employer', 'Taj Hotel Corporation'), ('description', 'Working as a front desk Assistant'), ('Salary', '100,000 USD'), ('degree', \"Bachelor's Degree\"), ('major', 'Hotel administration')], [('givenname', 'Raymond'), ('surname', 'Tschui'), ('title', 'Front Desk Assistant'), ('employer', 'Hilton Hotel Corporation'), ('description', 'Working as a front desk Assistant'), ('Salary', '150,000 USD'), ('title', 'Front Desk Assistant '), ('employer', 'Taj Hotel Corporation'), ('description', 'Working as a front desk Assistant'), ('Salary', '200,000 USD'), ('degree', \"Master's Degree\"), ('major', 'Hotel administration')], [('givenname', 'Vinchi'), ('surname', 'Bolt'), ('title', 'Front Desk Assistant'), ('employer', 'Hilton Hotel Corporation'), ('description', 'Working as a front desk Assistant'), ('Salary', '50,000 USD'), ('title', 'Front Desk Assistant '), ('employer', 'Taj Hotel Corporation'), ('description', 'Working as a front desk Assistant'), ('Salary', '100,000 USD'), ('degree', \"Bachelor's Degree\"), ('major', 'Hotel administration')], [('givenname', 'Vinchi'), ('surname', 'Bolt'), ('title', 'Front Desk Assistant'), ('employer', 'Hilton Hotel Corporation'), ('description', 'Working as a front desk Assistant'), ('Salary', '120,000 USD'), ('title', 'Front Desk Assistant '), ('employer', 'Taj Hotel Corporation'), ('description', 'Working as a front desk Assistant'), ('Salary', '180,000 USD'), ('degree', \"Master's Degree\"), ('major', 'Hotel administration')]]\n"
     ]
    },
    {
     "name": "stderr",
     "output_type": "stream",
     "text": [
      "/home/garvit/anaconda3/lib/python3.7/site-packages/ipykernel_launcher.py:4: DeprecationWarning: This method will be removed in future versions.  Use 'list(elem)' or iteration over elem instead.\n",
      "  after removing the cwd from sys.path.\n"
     ]
    }
   ],
   "source": [
    "def list_of_tuple(root):\n",
    "    L=[]\n",
    "    for i in root:\n",
    "        if i.getchildren():\n",
    "            L.append(parser(i))\n",
    "    return (L)\n",
    "        \n",
    "aa1 = list_of_tuple(root1)\n",
    "bb1 = list_of_tuple(root2)\n",
    "\n",
    "print('FILE-1 Data in list of tuple','\\n')\n",
    "print(aa1)\n",
    "print('\\n','----------------------------------','\\n')\n",
    "print('FILE-2 Data in list of tuple','\\n')\n",
    "print(bb1)"
   ]
  },
  {
   "cell_type": "markdown",
   "metadata": {},
   "source": [
    "#### Converting data into RDD and Paired RDD"
   ]
  },
  {
   "cell_type": "code",
   "execution_count": 8,
   "metadata": {},
   "outputs": [],
   "source": [
    "rdd_A = sc.parallelize(aa1)\n",
    "rdd_B = sc.parallelize(bb1)"
   ]
  },
  {
   "cell_type": "code",
   "execution_count": 23,
   "metadata": {},
   "outputs": [
    {
     "data": {
      "text/plain": [
       "[('raymond',\n",
       "  [('fullname', 'raymond_Tschui'),\n",
       "   ('city', 'New York'),\n",
       "   ('state', 'NY'),\n",
       "   ('country', 'US'),\n",
       "   ('degree', \"Bachelor's Degree\"),\n",
       "   ('major', 'Hotel administration')]),\n",
       " ('raymond',\n",
       "  [('fullname', 'raymond_Tschui'),\n",
       "   ('city', 'New York'),\n",
       "   ('state', 'NY'),\n",
       "   ('country', 'US'),\n",
       "   ('degree', \"Master's Degree\"),\n",
       "   ('major', 'Hotel administration')]),\n",
       " ('vinchi',\n",
       "  [('fullname', 'vinchi_Bolt'),\n",
       "   ('city', 'Boston'),\n",
       "   ('state', 'Massachusetts'),\n",
       "   ('country', 'US'),\n",
       "   ('degree', \"Bachelor's Degree\"),\n",
       "   ('major', 'Hotel administration')]),\n",
       " ('vinchi',\n",
       "  [('fullname', 'vinchi_Bolt'),\n",
       "   ('city', 'Boston'),\n",
       "   ('state', 'Massachusetts'),\n",
       "   ('country', 'CAN'),\n",
       "   ('degree', \"Master's Degree\"),\n",
       "   ('major', 'Hotel administration')])]"
      ]
     },
     "execution_count": 23,
     "metadata": {},
     "output_type": "execute_result"
    }
   ],
   "source": [
    "rdd_A1 = rdd_A.map(lambda x:(x[0][1].split('_')[0],x))\n",
    "rdd_A1.collect()"
   ]
  },
  {
   "cell_type": "code",
   "execution_count": 10,
   "metadata": {},
   "outputs": [
    {
     "data": {
      "text/plain": [
       "[('raymond',\n",
       "  [('givenname', 'Raymond'),\n",
       "   ('surname', 'Tschui'),\n",
       "   ('title', 'Front Desk Assistant'),\n",
       "   ('employer', 'Hilton Hotel Corporation'),\n",
       "   ('description', 'Working as a front desk Assistant'),\n",
       "   ('Salary', '50,000 USD'),\n",
       "   ('title', 'Front Desk Assistant '),\n",
       "   ('employer', 'Taj Hotel Corporation'),\n",
       "   ('description', 'Working as a front desk Assistant'),\n",
       "   ('Salary', '100,000 USD'),\n",
       "   ('degree', \"Bachelor's Degree\"),\n",
       "   ('major', 'Hotel administration')]),\n",
       " ('raymond',\n",
       "  [('givenname', 'Raymond'),\n",
       "   ('surname', 'Tschui'),\n",
       "   ('title', 'Front Desk Assistant'),\n",
       "   ('employer', 'Hilton Hotel Corporation'),\n",
       "   ('description', 'Working as a front desk Assistant'),\n",
       "   ('Salary', '150,000 USD'),\n",
       "   ('title', 'Front Desk Assistant '),\n",
       "   ('employer', 'Taj Hotel Corporation'),\n",
       "   ('description', 'Working as a front desk Assistant'),\n",
       "   ('Salary', '200,000 USD'),\n",
       "   ('degree', \"Master's Degree\"),\n",
       "   ('major', 'Hotel administration')]),\n",
       " ('vinchi',\n",
       "  [('givenname', 'Vinchi'),\n",
       "   ('surname', 'Bolt'),\n",
       "   ('title', 'Front Desk Assistant'),\n",
       "   ('employer', 'Hilton Hotel Corporation'),\n",
       "   ('description', 'Working as a front desk Assistant'),\n",
       "   ('Salary', '50,000 USD'),\n",
       "   ('title', 'Front Desk Assistant '),\n",
       "   ('employer', 'Taj Hotel Corporation'),\n",
       "   ('description', 'Working as a front desk Assistant'),\n",
       "   ('Salary', '100,000 USD'),\n",
       "   ('degree', \"Bachelor's Degree\"),\n",
       "   ('major', 'Hotel administration')]),\n",
       " ('vinchi',\n",
       "  [('givenname', 'Vinchi'),\n",
       "   ('surname', 'Bolt'),\n",
       "   ('title', 'Front Desk Assistant'),\n",
       "   ('employer', 'Hilton Hotel Corporation'),\n",
       "   ('description', 'Working as a front desk Assistant'),\n",
       "   ('Salary', '120,000 USD'),\n",
       "   ('title', 'Front Desk Assistant '),\n",
       "   ('employer', 'Taj Hotel Corporation'),\n",
       "   ('description', 'Working as a front desk Assistant'),\n",
       "   ('Salary', '180,000 USD'),\n",
       "   ('degree', \"Master's Degree\"),\n",
       "   ('major', 'Hotel administration')])]"
      ]
     },
     "execution_count": 10,
     "metadata": {},
     "output_type": "execute_result"
    }
   ],
   "source": [
    "rdd_B1 = rdd_B.map(lambda x:(x[0][1].lower(),x))\n",
    "rdd_B1.collect()"
   ]
  },
  {
   "cell_type": "markdown",
   "metadata": {},
   "source": [
    "#### Joining RDD_A1 and RDD_B1"
   ]
  },
  {
   "cell_type": "code",
   "execution_count": 20,
   "metadata": {},
   "outputs": [],
   "source": [
    "join_rdd = rdd_B1.join(rdd_A1)"
   ]
  },
  {
   "cell_type": "code",
   "execution_count": 85,
   "metadata": {},
   "outputs": [
    {
     "data": {
      "text/plain": [
       "[('raymond',\n",
       "  ([('givenname', 'Raymond'),\n",
       "    ('surname', 'Tschui'),\n",
       "    ('title', 'Front Desk Assistant'),\n",
       "    ('employer', 'Hilton Hotel Corporation'),\n",
       "    ('description', 'Working as a front desk Assistant'),\n",
       "    ('Salary', '50,000 USD'),\n",
       "    ('title', 'Front Desk Assistant '),\n",
       "    ('employer', 'Taj Hotel Corporation'),\n",
       "    ('description', 'Working as a front desk Assistant'),\n",
       "    ('Salary', '100,000 USD'),\n",
       "    ('degree', \"Bachelor's Degree\"),\n",
       "    ('major', 'Hotel administration')],\n",
       "   [('fullname', 'raymond_Tschui'),\n",
       "    ('city', 'New York'),\n",
       "    ('state', 'NY'),\n",
       "    ('country', 'US'),\n",
       "    ('degree', \"Bachelor's Degree\"),\n",
       "    ('major', 'Hotel administration')])),\n",
       " ('raymond',\n",
       "  ([('givenname', 'Raymond'),\n",
       "    ('surname', 'Tschui'),\n",
       "    ('title', 'Front Desk Assistant'),\n",
       "    ('employer', 'Hilton Hotel Corporation'),\n",
       "    ('description', 'Working as a front desk Assistant'),\n",
       "    ('Salary', '50,000 USD'),\n",
       "    ('title', 'Front Desk Assistant '),\n",
       "    ('employer', 'Taj Hotel Corporation'),\n",
       "    ('description', 'Working as a front desk Assistant'),\n",
       "    ('Salary', '100,000 USD'),\n",
       "    ('degree', \"Bachelor's Degree\"),\n",
       "    ('major', 'Hotel administration')],\n",
       "   [('fullname', 'raymond_Tschui'),\n",
       "    ('city', 'New York'),\n",
       "    ('state', 'NY'),\n",
       "    ('country', 'US'),\n",
       "    ('degree', \"Master's Degree\"),\n",
       "    ('major', 'Hotel administration')])),\n",
       " ('raymond',\n",
       "  ([('givenname', 'Raymond'),\n",
       "    ('surname', 'Tschui'),\n",
       "    ('title', 'Front Desk Assistant'),\n",
       "    ('employer', 'Hilton Hotel Corporation'),\n",
       "    ('description', 'Working as a front desk Assistant'),\n",
       "    ('Salary', '150,000 USD'),\n",
       "    ('title', 'Front Desk Assistant '),\n",
       "    ('employer', 'Taj Hotel Corporation'),\n",
       "    ('description', 'Working as a front desk Assistant'),\n",
       "    ('Salary', '200,000 USD'),\n",
       "    ('degree', \"Master's Degree\"),\n",
       "    ('major', 'Hotel administration')],\n",
       "   [('fullname', 'raymond_Tschui'),\n",
       "    ('city', 'New York'),\n",
       "    ('state', 'NY'),\n",
       "    ('country', 'US'),\n",
       "    ('degree', \"Bachelor's Degree\"),\n",
       "    ('major', 'Hotel administration')])),\n",
       " ('raymond',\n",
       "  ([('givenname', 'Raymond'),\n",
       "    ('surname', 'Tschui'),\n",
       "    ('title', 'Front Desk Assistant'),\n",
       "    ('employer', 'Hilton Hotel Corporation'),\n",
       "    ('description', 'Working as a front desk Assistant'),\n",
       "    ('Salary', '150,000 USD'),\n",
       "    ('title', 'Front Desk Assistant '),\n",
       "    ('employer', 'Taj Hotel Corporation'),\n",
       "    ('description', 'Working as a front desk Assistant'),\n",
       "    ('Salary', '200,000 USD'),\n",
       "    ('degree', \"Master's Degree\"),\n",
       "    ('major', 'Hotel administration')],\n",
       "   [('fullname', 'raymond_Tschui'),\n",
       "    ('city', 'New York'),\n",
       "    ('state', 'NY'),\n",
       "    ('country', 'US'),\n",
       "    ('degree', \"Master's Degree\"),\n",
       "    ('major', 'Hotel administration')])),\n",
       " ('vinchi',\n",
       "  ([('givenname', 'Vinchi'),\n",
       "    ('surname', 'Bolt'),\n",
       "    ('title', 'Front Desk Assistant'),\n",
       "    ('employer', 'Hilton Hotel Corporation'),\n",
       "    ('description', 'Working as a front desk Assistant'),\n",
       "    ('Salary', '50,000 USD'),\n",
       "    ('title', 'Front Desk Assistant '),\n",
       "    ('employer', 'Taj Hotel Corporation'),\n",
       "    ('description', 'Working as a front desk Assistant'),\n",
       "    ('Salary', '100,000 USD'),\n",
       "    ('degree', \"Bachelor's Degree\"),\n",
       "    ('major', 'Hotel administration')],\n",
       "   [('fullname', 'vinchi_Bolt'),\n",
       "    ('city', 'Boston'),\n",
       "    ('state', 'Massachusetts'),\n",
       "    ('country', 'US'),\n",
       "    ('degree', \"Bachelor's Degree\"),\n",
       "    ('major', 'Hotel administration')])),\n",
       " ('vinchi',\n",
       "  ([('givenname', 'Vinchi'),\n",
       "    ('surname', 'Bolt'),\n",
       "    ('title', 'Front Desk Assistant'),\n",
       "    ('employer', 'Hilton Hotel Corporation'),\n",
       "    ('description', 'Working as a front desk Assistant'),\n",
       "    ('Salary', '50,000 USD'),\n",
       "    ('title', 'Front Desk Assistant '),\n",
       "    ('employer', 'Taj Hotel Corporation'),\n",
       "    ('description', 'Working as a front desk Assistant'),\n",
       "    ('Salary', '100,000 USD'),\n",
       "    ('degree', \"Bachelor's Degree\"),\n",
       "    ('major', 'Hotel administration')],\n",
       "   [('fullname', 'vinchi_Bolt'),\n",
       "    ('city', 'Boston'),\n",
       "    ('state', 'Massachusetts'),\n",
       "    ('country', 'CAN'),\n",
       "    ('degree', \"Master's Degree\"),\n",
       "    ('major', 'Hotel administration')])),\n",
       " ('vinchi',\n",
       "  ([('givenname', 'Vinchi'),\n",
       "    ('surname', 'Bolt'),\n",
       "    ('title', 'Front Desk Assistant'),\n",
       "    ('employer', 'Hilton Hotel Corporation'),\n",
       "    ('description', 'Working as a front desk Assistant'),\n",
       "    ('Salary', '120,000 USD'),\n",
       "    ('title', 'Front Desk Assistant '),\n",
       "    ('employer', 'Taj Hotel Corporation'),\n",
       "    ('description', 'Working as a front desk Assistant'),\n",
       "    ('Salary', '180,000 USD'),\n",
       "    ('degree', \"Master's Degree\"),\n",
       "    ('major', 'Hotel administration')],\n",
       "   [('fullname', 'vinchi_Bolt'),\n",
       "    ('city', 'Boston'),\n",
       "    ('state', 'Massachusetts'),\n",
       "    ('country', 'US'),\n",
       "    ('degree', \"Bachelor's Degree\"),\n",
       "    ('major', 'Hotel administration')])),\n",
       " ('vinchi',\n",
       "  ([('givenname', 'Vinchi'),\n",
       "    ('surname', 'Bolt'),\n",
       "    ('title', 'Front Desk Assistant'),\n",
       "    ('employer', 'Hilton Hotel Corporation'),\n",
       "    ('description', 'Working as a front desk Assistant'),\n",
       "    ('Salary', '120,000 USD'),\n",
       "    ('title', 'Front Desk Assistant '),\n",
       "    ('employer', 'Taj Hotel Corporation'),\n",
       "    ('description', 'Working as a front desk Assistant'),\n",
       "    ('Salary', '180,000 USD'),\n",
       "    ('degree', \"Master's Degree\"),\n",
       "    ('major', 'Hotel administration')],\n",
       "   [('fullname', 'vinchi_Bolt'),\n",
       "    ('city', 'Boston'),\n",
       "    ('state', 'Massachusetts'),\n",
       "    ('country', 'CAN'),\n",
       "    ('degree', \"Master's Degree\"),\n",
       "    ('major', 'Hotel administration')]))]"
      ]
     },
     "execution_count": 85,
     "metadata": {},
     "output_type": "execute_result"
    }
   ],
   "source": [
    "join_rdd.collect()"
   ]
  },
  {
   "cell_type": "code",
   "execution_count": 288,
   "metadata": {},
   "outputs": [
    {
     "data": {
      "text/plain": [
       "[[('givenname', 'Raymond'),\n",
       "  ('surname', 'Tschui'),\n",
       "  ('title', 'Front Desk Assistant'),\n",
       "  ('employer', 'Hilton Hotel Corporation'),\n",
       "  ('description', 'Working as a front desk Assistant'),\n",
       "  ('Salary', '50,000 USD'),\n",
       "  ('title', 'Front Desk Assistant '),\n",
       "  ('employer', 'Taj Hotel Corporation'),\n",
       "  ('description', 'Working as a front desk Assistant'),\n",
       "  ('Salary', '100,000 USD'),\n",
       "  ('degree', \"Bachelor's Degree\"),\n",
       "  ('major', 'Hotel administration')]]"
      ]
     },
     "execution_count": 288,
     "metadata": {},
     "output_type": "execute_result"
    }
   ],
   "source": [
    "join_rdd1 = join_rdd.map(lambda x:x[1][0])\n",
    "join_rdd1.take(1)"
   ]
  },
  {
   "cell_type": "code",
   "execution_count": 289,
   "metadata": {},
   "outputs": [
    {
     "data": {
      "text/plain": [
       "[([('givenname', 'Raymond'),\n",
       "   ('surname', 'Tschui'),\n",
       "   ('title', 'Front Desk Assistant'),\n",
       "   ('employer', 'Hilton Hotel Corporation'),\n",
       "   ('description', 'Working as a front desk Assistant'),\n",
       "   ('Salary', '50,000 USD'),\n",
       "   ('title', 'Front Desk Assistant '),\n",
       "   ('employer', 'Taj Hotel Corporation'),\n",
       "   ('description', 'Working as a front desk Assistant'),\n",
       "   ('Salary', '100,000 USD'),\n",
       "   ('degree', \"Bachelor's Degree\"),\n",
       "   ('major', 'Hotel administration')],\n",
       "  [('fullname', 'raymond_Tschui'),\n",
       "   ('city', 'New York'),\n",
       "   ('state', 'NY'),\n",
       "   ('country', 'US'),\n",
       "   ('degree', \"Bachelor's Degree\"),\n",
       "   ('major', 'Hotel administration')])]"
      ]
     },
     "execution_count": 289,
     "metadata": {},
     "output_type": "execute_result"
    }
   ],
   "source": [
    "join_rdd2 = join_rdd.map(lambda x:x[1])\n",
    "join_rdd2.take(1)"
   ]
  },
  {
   "cell_type": "markdown",
   "metadata": {},
   "source": [
    "#### Fetching \"only values\" from paired RDD"
   ]
  },
  {
   "cell_type": "code",
   "execution_count": 350,
   "metadata": {},
   "outputs": [
    {
     "data": {
      "text/plain": [
       "[('raymond_Tschui',\n",
       "  'New York',\n",
       "  'NY',\n",
       "  'US',\n",
       "  \"Bachelor's Degree\",\n",
       "  'Hotel administration',\n",
       "  'Raymond',\n",
       "  'Tschui',\n",
       "  'Front Desk Assistant',\n",
       "  'Hilton Hotel Corporation',\n",
       "  'Working as a front desk Assistant',\n",
       "  '50,000 USD',\n",
       "  'Front Desk Assistant ',\n",
       "  'Taj Hotel Corporation',\n",
       "  'Working as a front desk Assistant',\n",
       "  '100,000 USD',\n",
       "  \"Bachelor's Degree\",\n",
       "  'Hotel administration')]"
      ]
     },
     "execution_count": 350,
     "metadata": {},
     "output_type": "execute_result"
    }
   ],
   "source": [
    "data_converted = join_rdd2.map(lambda x: (x[1][0][1],x[1][1][1],x[1][2][1],x[1][3][1],x[1][4][1],x[1][5][1],x[0][0][1],x[0][1][1],x[0][2][1],x[0][3][1],x[0][4][1],x[0][5][1],x[0][6][1],x[0][7][1],x[0][8][1],x[0][9][1],x[0][10][1],x[0][11][1]))\n",
    "data_converted.take(1)"
   ]
  },
  {
   "cell_type": "markdown",
   "metadata": {},
   "source": [
    "#### Defining schema"
   ]
  },
  {
   "cell_type": "code",
   "execution_count": 351,
   "metadata": {},
   "outputs": [],
   "source": [
    "from pyspark.sql.types import StructType, StructField, StringType\n",
    "\n",
    "schema = StructType([\n",
    "    \n",
    "    StructField(\"fullname\", StringType(), True),\n",
    "    StructField(\"city\", StringType(), True),\n",
    "    StructField(\"state\", StringType(), True),\n",
    "    StructField(\"country\", StringType(), True),\n",
    "    StructField(\"degree_F1\", StringType(), True),\n",
    "    StructField(\"major_F1\", StringType(), True),\n",
    "    StructField(\"givenname\", StringType(), True),\n",
    "    StructField(\"sirname\", StringType(), True),\n",
    "    StructField(\"title_1\", StringType(), True),\n",
    "    StructField(\"employer_1\", StringType(), True),\n",
    "    StructField(\"description_1\", StringType(), True),\n",
    "    StructField(\"salary_1\", StringType(), True),\n",
    "    StructField(\"title_2\", StringType(), True),\n",
    "    StructField(\"employer_2\", StringType(), True),\n",
    "    StructField(\"description_2\", StringType(), True),\n",
    "    StructField(\"salary_2\", StringType(), True),\n",
    "    StructField(\"degree_F2\", StringType(), True),\n",
    "    StructField(\"major_F2\", StringType(), True)])\n",
    "    "
   ]
  },
  {
   "cell_type": "code",
   "execution_count": 352,
   "metadata": {},
   "outputs": [],
   "source": [
    "df = ss.createDataFrame(data_converted, schema)"
   ]
  },
  {
   "cell_type": "code",
   "execution_count": 353,
   "metadata": {},
   "outputs": [],
   "source": [
    "df_pandas = df.toPandas()"
   ]
  },
  {
   "cell_type": "code",
   "execution_count": 354,
   "metadata": {},
   "outputs": [
    {
     "data": {
      "text/html": [
       "<div>\n",
       "<style scoped>\n",
       "    .dataframe tbody tr th:only-of-type {\n",
       "        vertical-align: middle;\n",
       "    }\n",
       "\n",
       "    .dataframe tbody tr th {\n",
       "        vertical-align: top;\n",
       "    }\n",
       "\n",
       "    .dataframe thead th {\n",
       "        text-align: right;\n",
       "    }\n",
       "</style>\n",
       "<table border=\"1\" class=\"dataframe\">\n",
       "  <thead>\n",
       "    <tr style=\"text-align: right;\">\n",
       "      <th></th>\n",
       "      <th>fullname</th>\n",
       "      <th>city</th>\n",
       "      <th>state</th>\n",
       "      <th>country</th>\n",
       "      <th>degree_F1</th>\n",
       "      <th>major_F1</th>\n",
       "      <th>givenname</th>\n",
       "      <th>sirname</th>\n",
       "      <th>title_1</th>\n",
       "      <th>employer_1</th>\n",
       "      <th>description_1</th>\n",
       "      <th>salary_1</th>\n",
       "      <th>title_2</th>\n",
       "      <th>employer_2</th>\n",
       "      <th>description_2</th>\n",
       "      <th>salary_2</th>\n",
       "      <th>degree_F2</th>\n",
       "      <th>major_F2</th>\n",
       "    </tr>\n",
       "  </thead>\n",
       "  <tbody>\n",
       "    <tr>\n",
       "      <th>0</th>\n",
       "      <td>raymond_Tschui</td>\n",
       "      <td>New York</td>\n",
       "      <td>NY</td>\n",
       "      <td>US</td>\n",
       "      <td>Bachelor's Degree</td>\n",
       "      <td>Hotel administration</td>\n",
       "      <td>Raymond</td>\n",
       "      <td>Tschui</td>\n",
       "      <td>Front Desk Assistant</td>\n",
       "      <td>Hilton Hotel Corporation</td>\n",
       "      <td>Working as a front desk Assistant</td>\n",
       "      <td>50,000 USD</td>\n",
       "      <td>Front Desk Assistant</td>\n",
       "      <td>Taj Hotel Corporation</td>\n",
       "      <td>Working as a front desk Assistant</td>\n",
       "      <td>100,000 USD</td>\n",
       "      <td>Bachelor's Degree</td>\n",
       "      <td>Hotel administration</td>\n",
       "    </tr>\n",
       "    <tr>\n",
       "      <th>1</th>\n",
       "      <td>raymond_Tschui</td>\n",
       "      <td>New York</td>\n",
       "      <td>NY</td>\n",
       "      <td>US</td>\n",
       "      <td>Master's Degree</td>\n",
       "      <td>Hotel administration</td>\n",
       "      <td>Raymond</td>\n",
       "      <td>Tschui</td>\n",
       "      <td>Front Desk Assistant</td>\n",
       "      <td>Hilton Hotel Corporation</td>\n",
       "      <td>Working as a front desk Assistant</td>\n",
       "      <td>50,000 USD</td>\n",
       "      <td>Front Desk Assistant</td>\n",
       "      <td>Taj Hotel Corporation</td>\n",
       "      <td>Working as a front desk Assistant</td>\n",
       "      <td>100,000 USD</td>\n",
       "      <td>Bachelor's Degree</td>\n",
       "      <td>Hotel administration</td>\n",
       "    </tr>\n",
       "    <tr>\n",
       "      <th>2</th>\n",
       "      <td>raymond_Tschui</td>\n",
       "      <td>New York</td>\n",
       "      <td>NY</td>\n",
       "      <td>US</td>\n",
       "      <td>Bachelor's Degree</td>\n",
       "      <td>Hotel administration</td>\n",
       "      <td>Raymond</td>\n",
       "      <td>Tschui</td>\n",
       "      <td>Front Desk Assistant</td>\n",
       "      <td>Hilton Hotel Corporation</td>\n",
       "      <td>Working as a front desk Assistant</td>\n",
       "      <td>150,000 USD</td>\n",
       "      <td>Front Desk Assistant</td>\n",
       "      <td>Taj Hotel Corporation</td>\n",
       "      <td>Working as a front desk Assistant</td>\n",
       "      <td>200,000 USD</td>\n",
       "      <td>Master's Degree</td>\n",
       "      <td>Hotel administration</td>\n",
       "    </tr>\n",
       "    <tr>\n",
       "      <th>3</th>\n",
       "      <td>raymond_Tschui</td>\n",
       "      <td>New York</td>\n",
       "      <td>NY</td>\n",
       "      <td>US</td>\n",
       "      <td>Master's Degree</td>\n",
       "      <td>Hotel administration</td>\n",
       "      <td>Raymond</td>\n",
       "      <td>Tschui</td>\n",
       "      <td>Front Desk Assistant</td>\n",
       "      <td>Hilton Hotel Corporation</td>\n",
       "      <td>Working as a front desk Assistant</td>\n",
       "      <td>150,000 USD</td>\n",
       "      <td>Front Desk Assistant</td>\n",
       "      <td>Taj Hotel Corporation</td>\n",
       "      <td>Working as a front desk Assistant</td>\n",
       "      <td>200,000 USD</td>\n",
       "      <td>Master's Degree</td>\n",
       "      <td>Hotel administration</td>\n",
       "    </tr>\n",
       "    <tr>\n",
       "      <th>4</th>\n",
       "      <td>vinchi_Bolt</td>\n",
       "      <td>Boston</td>\n",
       "      <td>Massachusetts</td>\n",
       "      <td>US</td>\n",
       "      <td>Bachelor's Degree</td>\n",
       "      <td>Hotel administration</td>\n",
       "      <td>Vinchi</td>\n",
       "      <td>Bolt</td>\n",
       "      <td>Front Desk Assistant</td>\n",
       "      <td>Hilton Hotel Corporation</td>\n",
       "      <td>Working as a front desk Assistant</td>\n",
       "      <td>50,000 USD</td>\n",
       "      <td>Front Desk Assistant</td>\n",
       "      <td>Taj Hotel Corporation</td>\n",
       "      <td>Working as a front desk Assistant</td>\n",
       "      <td>100,000 USD</td>\n",
       "      <td>Bachelor's Degree</td>\n",
       "      <td>Hotel administration</td>\n",
       "    </tr>\n",
       "    <tr>\n",
       "      <th>5</th>\n",
       "      <td>vinchi_Bolt</td>\n",
       "      <td>Boston</td>\n",
       "      <td>Massachusetts</td>\n",
       "      <td>CAN</td>\n",
       "      <td>Master's Degree</td>\n",
       "      <td>Hotel administration</td>\n",
       "      <td>Vinchi</td>\n",
       "      <td>Bolt</td>\n",
       "      <td>Front Desk Assistant</td>\n",
       "      <td>Hilton Hotel Corporation</td>\n",
       "      <td>Working as a front desk Assistant</td>\n",
       "      <td>50,000 USD</td>\n",
       "      <td>Front Desk Assistant</td>\n",
       "      <td>Taj Hotel Corporation</td>\n",
       "      <td>Working as a front desk Assistant</td>\n",
       "      <td>100,000 USD</td>\n",
       "      <td>Bachelor's Degree</td>\n",
       "      <td>Hotel administration</td>\n",
       "    </tr>\n",
       "    <tr>\n",
       "      <th>6</th>\n",
       "      <td>vinchi_Bolt</td>\n",
       "      <td>Boston</td>\n",
       "      <td>Massachusetts</td>\n",
       "      <td>US</td>\n",
       "      <td>Bachelor's Degree</td>\n",
       "      <td>Hotel administration</td>\n",
       "      <td>Vinchi</td>\n",
       "      <td>Bolt</td>\n",
       "      <td>Front Desk Assistant</td>\n",
       "      <td>Hilton Hotel Corporation</td>\n",
       "      <td>Working as a front desk Assistant</td>\n",
       "      <td>120,000 USD</td>\n",
       "      <td>Front Desk Assistant</td>\n",
       "      <td>Taj Hotel Corporation</td>\n",
       "      <td>Working as a front desk Assistant</td>\n",
       "      <td>180,000 USD</td>\n",
       "      <td>Master's Degree</td>\n",
       "      <td>Hotel administration</td>\n",
       "    </tr>\n",
       "    <tr>\n",
       "      <th>7</th>\n",
       "      <td>vinchi_Bolt</td>\n",
       "      <td>Boston</td>\n",
       "      <td>Massachusetts</td>\n",
       "      <td>CAN</td>\n",
       "      <td>Master's Degree</td>\n",
       "      <td>Hotel administration</td>\n",
       "      <td>Vinchi</td>\n",
       "      <td>Bolt</td>\n",
       "      <td>Front Desk Assistant</td>\n",
       "      <td>Hilton Hotel Corporation</td>\n",
       "      <td>Working as a front desk Assistant</td>\n",
       "      <td>120,000 USD</td>\n",
       "      <td>Front Desk Assistant</td>\n",
       "      <td>Taj Hotel Corporation</td>\n",
       "      <td>Working as a front desk Assistant</td>\n",
       "      <td>180,000 USD</td>\n",
       "      <td>Master's Degree</td>\n",
       "      <td>Hotel administration</td>\n",
       "    </tr>\n",
       "  </tbody>\n",
       "</table>\n",
       "</div>"
      ],
      "text/plain": [
       "         fullname      city          state country          degree_F1  \\\n",
       "0  raymond_Tschui  New York             NY      US  Bachelor's Degree   \n",
       "1  raymond_Tschui  New York             NY      US    Master's Degree   \n",
       "2  raymond_Tschui  New York             NY      US  Bachelor's Degree   \n",
       "3  raymond_Tschui  New York             NY      US    Master's Degree   \n",
       "4     vinchi_Bolt    Boston  Massachusetts      US  Bachelor's Degree   \n",
       "5     vinchi_Bolt    Boston  Massachusetts     CAN    Master's Degree   \n",
       "6     vinchi_Bolt    Boston  Massachusetts      US  Bachelor's Degree   \n",
       "7     vinchi_Bolt    Boston  Massachusetts     CAN    Master's Degree   \n",
       "\n",
       "               major_F1 givenname sirname               title_1  \\\n",
       "0  Hotel administration   Raymond  Tschui  Front Desk Assistant   \n",
       "1  Hotel administration   Raymond  Tschui  Front Desk Assistant   \n",
       "2  Hotel administration   Raymond  Tschui  Front Desk Assistant   \n",
       "3  Hotel administration   Raymond  Tschui  Front Desk Assistant   \n",
       "4  Hotel administration    Vinchi    Bolt  Front Desk Assistant   \n",
       "5  Hotel administration    Vinchi    Bolt  Front Desk Assistant   \n",
       "6  Hotel administration    Vinchi    Bolt  Front Desk Assistant   \n",
       "7  Hotel administration    Vinchi    Bolt  Front Desk Assistant   \n",
       "\n",
       "                 employer_1                      description_1     salary_1  \\\n",
       "0  Hilton Hotel Corporation  Working as a front desk Assistant   50,000 USD   \n",
       "1  Hilton Hotel Corporation  Working as a front desk Assistant   50,000 USD   \n",
       "2  Hilton Hotel Corporation  Working as a front desk Assistant  150,000 USD   \n",
       "3  Hilton Hotel Corporation  Working as a front desk Assistant  150,000 USD   \n",
       "4  Hilton Hotel Corporation  Working as a front desk Assistant   50,000 USD   \n",
       "5  Hilton Hotel Corporation  Working as a front desk Assistant   50,000 USD   \n",
       "6  Hilton Hotel Corporation  Working as a front desk Assistant  120,000 USD   \n",
       "7  Hilton Hotel Corporation  Working as a front desk Assistant  120,000 USD   \n",
       "\n",
       "                 title_2             employer_2  \\\n",
       "0  Front Desk Assistant   Taj Hotel Corporation   \n",
       "1  Front Desk Assistant   Taj Hotel Corporation   \n",
       "2  Front Desk Assistant   Taj Hotel Corporation   \n",
       "3  Front Desk Assistant   Taj Hotel Corporation   \n",
       "4  Front Desk Assistant   Taj Hotel Corporation   \n",
       "5  Front Desk Assistant   Taj Hotel Corporation   \n",
       "6  Front Desk Assistant   Taj Hotel Corporation   \n",
       "7  Front Desk Assistant   Taj Hotel Corporation   \n",
       "\n",
       "                       description_2     salary_2          degree_F2  \\\n",
       "0  Working as a front desk Assistant  100,000 USD  Bachelor's Degree   \n",
       "1  Working as a front desk Assistant  100,000 USD  Bachelor's Degree   \n",
       "2  Working as a front desk Assistant  200,000 USD    Master's Degree   \n",
       "3  Working as a front desk Assistant  200,000 USD    Master's Degree   \n",
       "4  Working as a front desk Assistant  100,000 USD  Bachelor's Degree   \n",
       "5  Working as a front desk Assistant  100,000 USD  Bachelor's Degree   \n",
       "6  Working as a front desk Assistant  180,000 USD    Master's Degree   \n",
       "7  Working as a front desk Assistant  180,000 USD    Master's Degree   \n",
       "\n",
       "               major_F2  \n",
       "0  Hotel administration  \n",
       "1  Hotel administration  \n",
       "2  Hotel administration  \n",
       "3  Hotel administration  \n",
       "4  Hotel administration  \n",
       "5  Hotel administration  \n",
       "6  Hotel administration  \n",
       "7  Hotel administration  "
      ]
     },
     "execution_count": 354,
     "metadata": {},
     "output_type": "execute_result"
    }
   ],
   "source": [
    "df_pandas"
   ]
  },
  {
   "cell_type": "code",
   "execution_count": null,
   "metadata": {},
   "outputs": [],
   "source": []
  },
  {
   "cell_type": "markdown",
   "metadata": {},
   "source": [
    "#### Names -> Lowercase"
   ]
  },
  {
   "cell_type": "code",
   "execution_count": 356,
   "metadata": {},
   "outputs": [],
   "source": [
    "df_pandas['fullname'] = df_pandas['fullname'].str.lower()\n",
    "df_pandas['givenname'] = df_pandas['givenname'].str.lower()\n",
    "df_pandas['sirname'] = df_pandas['sirname'].str.lower()"
   ]
  },
  {
   "cell_type": "markdown",
   "metadata": {},
   "source": [
    "#### Replacing unwanted character from salary"
   ]
  },
  {
   "cell_type": "code",
   "execution_count": 357,
   "metadata": {},
   "outputs": [],
   "source": [
    "df_pandas['salary_1'] = df_pandas['salary_1'].apply(lambda x:x.replace('USD',''))\n",
    "df_pandas['salary_1'] = df_pandas['salary_1'].apply(lambda x:x.replace(',',''))\n",
    "\n",
    "df_pandas['salary_2'] = df_pandas['salary_2'].apply(lambda x:x.replace('USD',''))\n",
    "df_pandas['salary_2'] = df_pandas['salary_2'].apply(lambda x:x.replace(',',''))"
   ]
  },
  {
   "cell_type": "code",
   "execution_count": 358,
   "metadata": {},
   "outputs": [
    {
     "data": {
      "text/html": [
       "<div>\n",
       "<style scoped>\n",
       "    .dataframe tbody tr th:only-of-type {\n",
       "        vertical-align: middle;\n",
       "    }\n",
       "\n",
       "    .dataframe tbody tr th {\n",
       "        vertical-align: top;\n",
       "    }\n",
       "\n",
       "    .dataframe thead th {\n",
       "        text-align: right;\n",
       "    }\n",
       "</style>\n",
       "<table border=\"1\" class=\"dataframe\">\n",
       "  <thead>\n",
       "    <tr style=\"text-align: right;\">\n",
       "      <th></th>\n",
       "      <th>fullname</th>\n",
       "      <th>city</th>\n",
       "      <th>state</th>\n",
       "      <th>country</th>\n",
       "      <th>degree_F1</th>\n",
       "      <th>major_F1</th>\n",
       "      <th>givenname</th>\n",
       "      <th>sirname</th>\n",
       "      <th>title_1</th>\n",
       "      <th>employer_1</th>\n",
       "      <th>description_1</th>\n",
       "      <th>salary_1</th>\n",
       "      <th>title_2</th>\n",
       "      <th>employer_2</th>\n",
       "      <th>description_2</th>\n",
       "      <th>salary_2</th>\n",
       "      <th>degree_F2</th>\n",
       "      <th>major_F2</th>\n",
       "    </tr>\n",
       "  </thead>\n",
       "  <tbody>\n",
       "    <tr>\n",
       "      <th>0</th>\n",
       "      <td>raymond_tschui</td>\n",
       "      <td>New York</td>\n",
       "      <td>NY</td>\n",
       "      <td>US</td>\n",
       "      <td>Bachelor's Degree</td>\n",
       "      <td>Hotel administration</td>\n",
       "      <td>raymond</td>\n",
       "      <td>tschui</td>\n",
       "      <td>Front Desk Assistant</td>\n",
       "      <td>Hilton Hotel Corporation</td>\n",
       "      <td>Working as a front desk Assistant</td>\n",
       "      <td>50000</td>\n",
       "      <td>Front Desk Assistant</td>\n",
       "      <td>Taj Hotel Corporation</td>\n",
       "      <td>Working as a front desk Assistant</td>\n",
       "      <td>100000</td>\n",
       "      <td>Bachelor's Degree</td>\n",
       "      <td>Hotel administration</td>\n",
       "    </tr>\n",
       "    <tr>\n",
       "      <th>1</th>\n",
       "      <td>raymond_tschui</td>\n",
       "      <td>New York</td>\n",
       "      <td>NY</td>\n",
       "      <td>US</td>\n",
       "      <td>Master's Degree</td>\n",
       "      <td>Hotel administration</td>\n",
       "      <td>raymond</td>\n",
       "      <td>tschui</td>\n",
       "      <td>Front Desk Assistant</td>\n",
       "      <td>Hilton Hotel Corporation</td>\n",
       "      <td>Working as a front desk Assistant</td>\n",
       "      <td>50000</td>\n",
       "      <td>Front Desk Assistant</td>\n",
       "      <td>Taj Hotel Corporation</td>\n",
       "      <td>Working as a front desk Assistant</td>\n",
       "      <td>100000</td>\n",
       "      <td>Bachelor's Degree</td>\n",
       "      <td>Hotel administration</td>\n",
       "    </tr>\n",
       "    <tr>\n",
       "      <th>2</th>\n",
       "      <td>raymond_tschui</td>\n",
       "      <td>New York</td>\n",
       "      <td>NY</td>\n",
       "      <td>US</td>\n",
       "      <td>Bachelor's Degree</td>\n",
       "      <td>Hotel administration</td>\n",
       "      <td>raymond</td>\n",
       "      <td>tschui</td>\n",
       "      <td>Front Desk Assistant</td>\n",
       "      <td>Hilton Hotel Corporation</td>\n",
       "      <td>Working as a front desk Assistant</td>\n",
       "      <td>150000</td>\n",
       "      <td>Front Desk Assistant</td>\n",
       "      <td>Taj Hotel Corporation</td>\n",
       "      <td>Working as a front desk Assistant</td>\n",
       "      <td>200000</td>\n",
       "      <td>Master's Degree</td>\n",
       "      <td>Hotel administration</td>\n",
       "    </tr>\n",
       "    <tr>\n",
       "      <th>3</th>\n",
       "      <td>raymond_tschui</td>\n",
       "      <td>New York</td>\n",
       "      <td>NY</td>\n",
       "      <td>US</td>\n",
       "      <td>Master's Degree</td>\n",
       "      <td>Hotel administration</td>\n",
       "      <td>raymond</td>\n",
       "      <td>tschui</td>\n",
       "      <td>Front Desk Assistant</td>\n",
       "      <td>Hilton Hotel Corporation</td>\n",
       "      <td>Working as a front desk Assistant</td>\n",
       "      <td>150000</td>\n",
       "      <td>Front Desk Assistant</td>\n",
       "      <td>Taj Hotel Corporation</td>\n",
       "      <td>Working as a front desk Assistant</td>\n",
       "      <td>200000</td>\n",
       "      <td>Master's Degree</td>\n",
       "      <td>Hotel administration</td>\n",
       "    </tr>\n",
       "    <tr>\n",
       "      <th>4</th>\n",
       "      <td>vinchi_bolt</td>\n",
       "      <td>Boston</td>\n",
       "      <td>Massachusetts</td>\n",
       "      <td>US</td>\n",
       "      <td>Bachelor's Degree</td>\n",
       "      <td>Hotel administration</td>\n",
       "      <td>vinchi</td>\n",
       "      <td>bolt</td>\n",
       "      <td>Front Desk Assistant</td>\n",
       "      <td>Hilton Hotel Corporation</td>\n",
       "      <td>Working as a front desk Assistant</td>\n",
       "      <td>50000</td>\n",
       "      <td>Front Desk Assistant</td>\n",
       "      <td>Taj Hotel Corporation</td>\n",
       "      <td>Working as a front desk Assistant</td>\n",
       "      <td>100000</td>\n",
       "      <td>Bachelor's Degree</td>\n",
       "      <td>Hotel administration</td>\n",
       "    </tr>\n",
       "    <tr>\n",
       "      <th>5</th>\n",
       "      <td>vinchi_bolt</td>\n",
       "      <td>Boston</td>\n",
       "      <td>Massachusetts</td>\n",
       "      <td>CAN</td>\n",
       "      <td>Master's Degree</td>\n",
       "      <td>Hotel administration</td>\n",
       "      <td>vinchi</td>\n",
       "      <td>bolt</td>\n",
       "      <td>Front Desk Assistant</td>\n",
       "      <td>Hilton Hotel Corporation</td>\n",
       "      <td>Working as a front desk Assistant</td>\n",
       "      <td>50000</td>\n",
       "      <td>Front Desk Assistant</td>\n",
       "      <td>Taj Hotel Corporation</td>\n",
       "      <td>Working as a front desk Assistant</td>\n",
       "      <td>100000</td>\n",
       "      <td>Bachelor's Degree</td>\n",
       "      <td>Hotel administration</td>\n",
       "    </tr>\n",
       "    <tr>\n",
       "      <th>6</th>\n",
       "      <td>vinchi_bolt</td>\n",
       "      <td>Boston</td>\n",
       "      <td>Massachusetts</td>\n",
       "      <td>US</td>\n",
       "      <td>Bachelor's Degree</td>\n",
       "      <td>Hotel administration</td>\n",
       "      <td>vinchi</td>\n",
       "      <td>bolt</td>\n",
       "      <td>Front Desk Assistant</td>\n",
       "      <td>Hilton Hotel Corporation</td>\n",
       "      <td>Working as a front desk Assistant</td>\n",
       "      <td>120000</td>\n",
       "      <td>Front Desk Assistant</td>\n",
       "      <td>Taj Hotel Corporation</td>\n",
       "      <td>Working as a front desk Assistant</td>\n",
       "      <td>180000</td>\n",
       "      <td>Master's Degree</td>\n",
       "      <td>Hotel administration</td>\n",
       "    </tr>\n",
       "    <tr>\n",
       "      <th>7</th>\n",
       "      <td>vinchi_bolt</td>\n",
       "      <td>Boston</td>\n",
       "      <td>Massachusetts</td>\n",
       "      <td>CAN</td>\n",
       "      <td>Master's Degree</td>\n",
       "      <td>Hotel administration</td>\n",
       "      <td>vinchi</td>\n",
       "      <td>bolt</td>\n",
       "      <td>Front Desk Assistant</td>\n",
       "      <td>Hilton Hotel Corporation</td>\n",
       "      <td>Working as a front desk Assistant</td>\n",
       "      <td>120000</td>\n",
       "      <td>Front Desk Assistant</td>\n",
       "      <td>Taj Hotel Corporation</td>\n",
       "      <td>Working as a front desk Assistant</td>\n",
       "      <td>180000</td>\n",
       "      <td>Master's Degree</td>\n",
       "      <td>Hotel administration</td>\n",
       "    </tr>\n",
       "  </tbody>\n",
       "</table>\n",
       "</div>"
      ],
      "text/plain": [
       "         fullname      city          state country          degree_F1  \\\n",
       "0  raymond_tschui  New York             NY      US  Bachelor's Degree   \n",
       "1  raymond_tschui  New York             NY      US    Master's Degree   \n",
       "2  raymond_tschui  New York             NY      US  Bachelor's Degree   \n",
       "3  raymond_tschui  New York             NY      US    Master's Degree   \n",
       "4     vinchi_bolt    Boston  Massachusetts      US  Bachelor's Degree   \n",
       "5     vinchi_bolt    Boston  Massachusetts     CAN    Master's Degree   \n",
       "6     vinchi_bolt    Boston  Massachusetts      US  Bachelor's Degree   \n",
       "7     vinchi_bolt    Boston  Massachusetts     CAN    Master's Degree   \n",
       "\n",
       "               major_F1 givenname sirname               title_1  \\\n",
       "0  Hotel administration   raymond  tschui  Front Desk Assistant   \n",
       "1  Hotel administration   raymond  tschui  Front Desk Assistant   \n",
       "2  Hotel administration   raymond  tschui  Front Desk Assistant   \n",
       "3  Hotel administration   raymond  tschui  Front Desk Assistant   \n",
       "4  Hotel administration    vinchi    bolt  Front Desk Assistant   \n",
       "5  Hotel administration    vinchi    bolt  Front Desk Assistant   \n",
       "6  Hotel administration    vinchi    bolt  Front Desk Assistant   \n",
       "7  Hotel administration    vinchi    bolt  Front Desk Assistant   \n",
       "\n",
       "                 employer_1                      description_1 salary_1  \\\n",
       "0  Hilton Hotel Corporation  Working as a front desk Assistant   50000    \n",
       "1  Hilton Hotel Corporation  Working as a front desk Assistant   50000    \n",
       "2  Hilton Hotel Corporation  Working as a front desk Assistant  150000    \n",
       "3  Hilton Hotel Corporation  Working as a front desk Assistant  150000    \n",
       "4  Hilton Hotel Corporation  Working as a front desk Assistant   50000    \n",
       "5  Hilton Hotel Corporation  Working as a front desk Assistant   50000    \n",
       "6  Hilton Hotel Corporation  Working as a front desk Assistant  120000    \n",
       "7  Hilton Hotel Corporation  Working as a front desk Assistant  120000    \n",
       "\n",
       "                 title_2             employer_2  \\\n",
       "0  Front Desk Assistant   Taj Hotel Corporation   \n",
       "1  Front Desk Assistant   Taj Hotel Corporation   \n",
       "2  Front Desk Assistant   Taj Hotel Corporation   \n",
       "3  Front Desk Assistant   Taj Hotel Corporation   \n",
       "4  Front Desk Assistant   Taj Hotel Corporation   \n",
       "5  Front Desk Assistant   Taj Hotel Corporation   \n",
       "6  Front Desk Assistant   Taj Hotel Corporation   \n",
       "7  Front Desk Assistant   Taj Hotel Corporation   \n",
       "\n",
       "                       description_2 salary_2          degree_F2  \\\n",
       "0  Working as a front desk Assistant  100000   Bachelor's Degree   \n",
       "1  Working as a front desk Assistant  100000   Bachelor's Degree   \n",
       "2  Working as a front desk Assistant  200000     Master's Degree   \n",
       "3  Working as a front desk Assistant  200000     Master's Degree   \n",
       "4  Working as a front desk Assistant  100000   Bachelor's Degree   \n",
       "5  Working as a front desk Assistant  100000   Bachelor's Degree   \n",
       "6  Working as a front desk Assistant  180000     Master's Degree   \n",
       "7  Working as a front desk Assistant  180000     Master's Degree   \n",
       "\n",
       "               major_F2  \n",
       "0  Hotel administration  \n",
       "1  Hotel administration  \n",
       "2  Hotel administration  \n",
       "3  Hotel administration  \n",
       "4  Hotel administration  \n",
       "5  Hotel administration  \n",
       "6  Hotel administration  \n",
       "7  Hotel administration  "
      ]
     },
     "execution_count": 358,
     "metadata": {},
     "output_type": "execute_result"
    }
   ],
   "source": [
    "df_pandas"
   ]
  },
  {
   "cell_type": "markdown",
   "metadata": {},
   "source": [
    "#### Converting \"salary\" type from 'string' to 'integer'"
   ]
  },
  {
   "cell_type": "code",
   "execution_count": 359,
   "metadata": {},
   "outputs": [],
   "source": [
    "df_pandas['salary_1'] = df_pandas['salary_1'].astype(int)\n",
    "df_pandas['salary_2'] = df_pandas['salary_2'].astype(int)"
   ]
  },
  {
   "cell_type": "markdown",
   "metadata": {},
   "source": [
    "#### converting Pandas DF to spark DF"
   ]
  },
  {
   "cell_type": "code",
   "execution_count": null,
   "metadata": {},
   "outputs": [],
   "source": [
    "df2 = ss.createDataFrame(df_pandas)"
   ]
  },
  {
   "cell_type": "markdown",
   "metadata": {},
   "source": [
    "#### registering \"Dataframe\" as temperory \"Table\""
   ]
  },
  {
   "cell_type": "code",
   "execution_count": 376,
   "metadata": {},
   "outputs": [],
   "source": [
    "sql.SQLContext(sparkSession=ss, sparkContext=ss.sparkContext).registerDataFrameAsTable(df2,'details')\n",
    "# enabling backword compability by passing parameters in SQLContext()"
   ]
  },
  {
   "cell_type": "code",
   "execution_count": null,
   "metadata": {},
   "outputs": [],
   "source": []
  },
  {
   "cell_type": "markdown",
   "metadata": {},
   "source": [
    "### MIN Salary of both employee"
   ]
  },
  {
   "cell_type": "code",
   "execution_count": 446,
   "metadata": {},
   "outputs": [],
   "source": [
    "df3 = sql.SQLContext(sparkContext=ss.sparkContext, sparkSession=ss) \\\n",
    ".sql('select * from (select fullname,city,state,country,salary_1, salary_2 from details \\\n",
    "     order by salary_1, salary_2) where fullname = \"raymond_tschui\" limit 1')"
   ]
  },
  {
   "cell_type": "code",
   "execution_count": 448,
   "metadata": {
    "scrolled": true
   },
   "outputs": [
    {
     "name": "stdout",
     "output_type": "stream",
     "text": [
      "MIN salary of 'raymond_tschui'\n",
      "\n",
      "+--------------+--------+-----+-------+--------+--------+\n",
      "|      fullname|    city|state|country|salary_1|salary_2|\n",
      "+--------------+--------+-----+-------+--------+--------+\n",
      "|raymond_tschui|New York|   NY|     US|   50000|  100000|\n",
      "+--------------+--------+-----+-------+--------+--------+\n",
      "\n"
     ]
    }
   ],
   "source": [
    "print(\"MIN salary of 'raymond_tschui'\")\n",
    "print()\n",
    "df3.show()"
   ]
  },
  {
   "cell_type": "code",
   "execution_count": 451,
   "metadata": {},
   "outputs": [],
   "source": [
    "df4 = sql.SQLContext(sparkContext=ss.sparkContext, sparkSession=ss) \\\n",
    ".sql('select * from (select fullname,city,state,country,salary_1, salary_2 from details \\\n",
    "     order by salary_1, salary_2) where fullname = \"vinchi_bolt\" limit 1')"
   ]
  },
  {
   "cell_type": "code",
   "execution_count": 453,
   "metadata": {},
   "outputs": [
    {
     "name": "stdout",
     "output_type": "stream",
     "text": [
      "MIN salary of 'vinchi_bolt'\n",
      "\n",
      "+-----------+------+-------------+-------+--------+--------+\n",
      "|   fullname|  city|        state|country|salary_1|salary_2|\n",
      "+-----------+------+-------------+-------+--------+--------+\n",
      "|vinchi_bolt|Boston|Massachusetts|     US|   50000|  100000|\n",
      "+-----------+------+-------------+-------+--------+--------+\n",
      "\n"
     ]
    }
   ],
   "source": [
    "print(\"MIN salary of 'vinchi_bolt'\")\n",
    "print()\n",
    "df4.show()"
   ]
  },
  {
   "cell_type": "markdown",
   "metadata": {},
   "source": [
    "### MAX Salary of both employee"
   ]
  },
  {
   "cell_type": "code",
   "execution_count": 459,
   "metadata": {},
   "outputs": [],
   "source": [
    "df5 = sql.SQLContext(sparkContext=ss.sparkContext, sparkSession=ss) \\\n",
    ".sql('select * from (select fullname,city,state,country,salary_1, salary_2 from details \\\n",
    "     order by salary_1 desc, salary_2 desc) where fullname = \"raymond_tschui\" limit 1')"
   ]
  },
  {
   "cell_type": "code",
   "execution_count": 460,
   "metadata": {},
   "outputs": [
    {
     "name": "stdout",
     "output_type": "stream",
     "text": [
      "MAX salary of 'raymond_tschui'\n",
      "\n",
      "+--------------+--------+-----+-------+--------+--------+\n",
      "|      fullname|    city|state|country|salary_1|salary_2|\n",
      "+--------------+--------+-----+-------+--------+--------+\n",
      "|raymond_tschui|New York|   NY|     US|  150000|  200000|\n",
      "+--------------+--------+-----+-------+--------+--------+\n",
      "\n"
     ]
    }
   ],
   "source": [
    "print(\"MAX salary of 'raymond_tschui'\")\n",
    "print()\n",
    "df5.show()"
   ]
  },
  {
   "cell_type": "code",
   "execution_count": 461,
   "metadata": {},
   "outputs": [],
   "source": [
    "df6 = sql.SQLContext(sparkContext=ss.sparkContext, sparkSession=ss) \\\n",
    ".sql('select * from (select fullname,city,state,country,salary_1, salary_2 from details \\\n",
    "     order by salary_1 desc, salary_2 desc) where fullname = \"vinchi_bolt\" limit 1')"
   ]
  },
  {
   "cell_type": "code",
   "execution_count": 462,
   "metadata": {},
   "outputs": [
    {
     "name": "stdout",
     "output_type": "stream",
     "text": [
      "MAX salary of 'vinchi_bolt'\n",
      "\n",
      "+-----------+------+-------------+-------+--------+--------+\n",
      "|   fullname|  city|        state|country|salary_1|salary_2|\n",
      "+-----------+------+-------------+-------+--------+--------+\n",
      "|vinchi_bolt|Boston|Massachusetts|     US|  120000|  180000|\n",
      "+-----------+------+-------------+-------+--------+--------+\n",
      "\n"
     ]
    }
   ],
   "source": [
    "print(\"MAX salary of 'vinchi_bolt'\")\n",
    "print()\n",
    "df6.show()"
   ]
  },
  {
   "cell_type": "code",
   "execution_count": 464,
   "metadata": {},
   "outputs": [],
   "source": [
    "df3_pandas = df3.toPandas() \n",
    "df4_pandas = df4.toPandas()\n",
    "df5_pandas = df5.toPandas()\n",
    "df6_pandas = df6.toPandas()"
   ]
  },
  {
   "cell_type": "markdown",
   "metadata": {},
   "source": [
    "### Saving results in TSV Format"
   ]
  },
  {
   "cell_type": "code",
   "execution_count": 476,
   "metadata": {},
   "outputs": [],
   "source": [
    "df3_pandas.to_csv('1.csv',sep='\\t',header=True)\n",
    "df4_pandas.to_csv('2.csv',sep='\\t',header=True)\n",
    "df5_pandas.to_csv('3.csv',sep='\\t',header=True)\n",
    "df6_pandas.to_csv('4.csv',sep='\\t',header=True)"
   ]
  },
  {
   "cell_type": "code",
   "execution_count": null,
   "metadata": {},
   "outputs": [],
   "source": []
  }
 ],
 "metadata": {
  "kernelspec": {
   "display_name": "Python 3",
   "language": "python",
   "name": "python3"
  },
  "language_info": {
   "codemirror_mode": {
    "name": "ipython",
    "version": 3
   },
   "file_extension": ".py",
   "mimetype": "text/x-python",
   "name": "python",
   "nbconvert_exporter": "python",
   "pygments_lexer": "ipython3",
   "version": "3.7.3"
  }
 },
 "nbformat": 4,
 "nbformat_minor": 2
}
