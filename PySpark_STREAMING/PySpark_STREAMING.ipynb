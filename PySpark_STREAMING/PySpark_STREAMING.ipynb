{
 "cells": [
  {
   "cell_type": "markdown",
   "metadata": {},
   "source": [
    "# Playing with Spark Streaming"
   ]
  },
  {
   "cell_type": "code",
   "execution_count": null,
   "metadata": {},
   "outputs": [],
   "source": [
    "import findspark\n",
    "findspark.init()"
   ]
  },
  {
   "cell_type": "markdown",
   "metadata": {},
   "source": [
    "### Making Dstreams"
   ]
  },
  {
   "cell_type": "code",
   "execution_count": 32,
   "metadata": {},
   "outputs": [],
   "source": [
    "import pyspark\n",
    "import pyspark.sql as sql\n",
    "ss = sql.SparkSession.builder.appName('streaming').getOrCreate()\n",
    "sc = ss.sparkContext"
   ]
  },
  {
   "cell_type": "code",
   "execution_count": 33,
   "metadata": {},
   "outputs": [],
   "source": [
    "from pyspark.streaming import StreamingContext\n",
    "ssc = StreamingContext(sc,1)"
   ]
  },
  {
   "cell_type": "code",
   "execution_count": 34,
   "metadata": {},
   "outputs": [
    {
     "name": "stdout",
     "output_type": "stream",
     "text": [
      "-------------------------------------------\n",
      "Time: 2019-05-27 14:38:59\n",
      "-------------------------------------------\n",
      "0\n",
      "5\n",
      "10\n",
      "15\n",
      "20\n",
      "25\n",
      "30\n",
      "35\n",
      "40\n",
      "45\n",
      "...\n",
      "\n",
      "-------------------------------------------\n",
      "Time: 2019-05-27 14:39:00\n",
      "-------------------------------------------\n",
      "0\n",
      "5\n",
      "10\n",
      "15\n",
      "20\n",
      "25\n",
      "30\n",
      "35\n",
      "40\n",
      "45\n",
      "...\n",
      "\n",
      "-------------------------------------------\n",
      "Time: 2019-05-27 14:39:01\n",
      "-------------------------------------------\n",
      "0\n",
      "5\n",
      "10\n",
      "15\n",
      "20\n",
      "25\n",
      "30\n",
      "35\n",
      "40\n",
      "45\n",
      "...\n",
      "\n",
      "-------------------------------------------\n",
      "Time: 2019-05-27 14:39:02\n",
      "-------------------------------------------\n",
      "\n"
     ]
    }
   ],
   "source": [
    "import time\n",
    "\n",
    "if __name__ == \"__main__\":\n",
    "    rddQueue = []\n",
    "    for i in range(3):\n",
    "        rddQueue += [sc.parallelize([j for j in range(0,1001)])]\n",
    "    \n",
    "    inputStream = ssc.queueStream(rddQueue)\n",
    "    mappedStream = inputStream.map(lambda x: (x*5))\n",
    "    mappedStream.pprint()\n",
    "    \n",
    "    ssc.start()\n",
    "    time.sleep(2)\n",
    "    ssc.stop(stopSparkContext=True, stopGraceFully=True)"
   ]
  },
  {
   "cell_type": "markdown",
   "metadata": {},
   "source": [
    "## Transformations on Dstreams"
   ]
  },
  {
   "cell_type": "code",
   "execution_count": null,
   "metadata": {},
   "outputs": [],
   "source": [
    "import findspark\n",
    "findspark.init()"
   ]
  },
  {
   "cell_type": "code",
   "execution_count": 35,
   "metadata": {},
   "outputs": [],
   "source": [
    "import pyspark\n",
    "import pyspark.sql as sql\n",
    "from pyspark.streaming import StreamingContext\n",
    "ss = sql.SparkSession.builder.appName('streaming').getOrCreate()\n",
    "sc = ss.sparkContext\n",
    "ssc = StreamingContext(sc,1)"
   ]
  },
  {
   "cell_type": "code",
   "execution_count": 36,
   "metadata": {},
   "outputs": [],
   "source": [
    "stream = ssc.queueStream([sc.parallelize([(1,\"a\"), (2,\"b\"),(1,\"c\"),(2,\"d\"),(1,\"e\"),(3,\"f\")])])"
   ]
  },
  {
   "cell_type": "code",
   "execution_count": 37,
   "metadata": {},
   "outputs": [
    {
     "name": "stdout",
     "output_type": "stream",
     "text": [
      "-------------------------------------------\n",
      "Time: 2019-05-27 14:39:18\n",
      "-------------------------------------------\n",
      "(3, 'f')\n",
      "\n",
      "-------------------------------------------\n",
      "Time: 2019-05-27 14:39:19\n",
      "-------------------------------------------\n",
      "\n"
     ]
    }
   ],
   "source": [
    "# stream.pprint()\n",
    "largest = stream.reduce(max)\n",
    "largest.pprint()\n",
    "\n",
    "ssc.start()\n",
    "ssc.stop(stopSparkContext=True, stopGraceFully=True)"
   ]
  },
  {
   "cell_type": "markdown",
   "metadata": {},
   "source": [
    "### transform()"
   ]
  },
  {
   "cell_type": "code",
   "execution_count": null,
   "metadata": {},
   "outputs": [],
   "source": [
    "ON HOLD"
   ]
  },
  {
   "cell_type": "markdown",
   "metadata": {},
   "source": [
    "### Window()\n",
    "\n",
    "process the streaming data within a window and specific time"
   ]
  },
  {
   "cell_type": "code",
   "execution_count": 1,
   "metadata": {},
   "outputs": [],
   "source": [
    "import findspark\n",
    "findspark.init()\n",
    "\n",
    "import pyspark\n",
    "import pyspark.sql as sql\n",
    "from pyspark.streaming import StreamingContext\n",
    "ss = sql.SparkSession.builder.appName('streaming').getOrCreate()\n",
    "sc = ss.sparkContext\n",
    "ssc = StreamingContext(sc,1)"
   ]
  },
  {
   "cell_type": "code",
   "execution_count": 2,
   "metadata": {},
   "outputs": [],
   "source": [
    "lines = ssc.socketTextStream(hostname='localhost',port=6666)"
   ]
  },
  {
   "cell_type": "code",
   "execution_count": 3,
   "metadata": {},
   "outputs": [
    {
     "name": "stdout",
     "output_type": "stream",
     "text": [
      "-------------------------------------------\n",
      "Time: 2019-05-27 14:59:18\n",
      "-------------------------------------------\n",
      "('hello', 1)\n",
      "('garvit', 1)\n",
      "\n",
      "-------------------------------------------\n",
      "Time: 2019-05-27 14:59:28\n",
      "-------------------------------------------\n",
      "('hello', 1)\n",
      "('garvit', 1)\n",
      "('how are you', 1)\n",
      "\n"
     ]
    }
   ],
   "source": [
    "words = lines.map(lambda x:(x,1))\n",
    "words.window(windowDuration=20, slideDuration=10).pprint()\n",
    "ssc.start()"
   ]
  },
  {
   "cell_type": "code",
   "execution_count": 4,
   "metadata": {},
   "outputs": [],
   "source": [
    "ssc.stop()\n",
    "sc.stop()"
   ]
  },
  {
   "cell_type": "markdown",
   "metadata": {},
   "source": [
    "### CountByWindow()\n",
    "\n",
    "count the size of window\n",
    "\n",
    "similar to window(30,20).count()"
   ]
  },
  {
   "cell_type": "markdown",
   "metadata": {},
   "source": [
    "### ReduceByKeyAndWindow()\n",
    "\n",
    "same as of \"ReduceByKey()\" but applied on \"window()\""
   ]
  },
  {
   "cell_type": "code",
   "execution_count": 18,
   "metadata": {},
   "outputs": [],
   "source": [
    "import findspark\n",
    "findspark.init()\n",
    "\n",
    "import pyspark\n",
    "import pyspark.sql as sql\n",
    "from pyspark.streaming import StreamingContext\n",
    "ss = sql.SparkSession.builder.appName('streaming').getOrCreate()\n",
    "sc = ss.sparkContext\n",
    "ssc = StreamingContext(sc,1)\n",
    "ssc.checkpoint(\"checkpoint\")"
   ]
  },
  {
   "cell_type": "code",
   "execution_count": 19,
   "metadata": {},
   "outputs": [],
   "source": [
    "lines = ssc.socketTextStream('localhost',7777)"
   ]
  },
  {
   "cell_type": "code",
   "execution_count": 20,
   "metadata": {},
   "outputs": [
    {
     "name": "stdout",
     "output_type": "stream",
     "text": [
      "-------------------------------------------\n",
      "Time: 2019-05-27 15:03:32\n",
      "-------------------------------------------\n",
      "\n",
      "-------------------------------------------\n",
      "Time: 2019-05-27 15:03:33\n",
      "-------------------------------------------\n",
      "\n",
      "-------------------------------------------\n",
      "Time: 2019-05-27 15:03:34\n",
      "-------------------------------------------\n",
      "('hello', 1)\n",
      "\n",
      "-------------------------------------------\n",
      "Time: 2019-05-27 15:03:35\n",
      "-------------------------------------------\n",
      "('hello', 1)\n",
      "\n",
      "-------------------------------------------\n",
      "Time: 2019-05-27 15:03:36\n",
      "-------------------------------------------\n",
      "('garvit', 1)\n",
      "('hello', 1)\n",
      "\n",
      "-------------------------------------------\n",
      "Time: 2019-05-27 15:03:37\n",
      "-------------------------------------------\n",
      "('garvit', 2)\n",
      "('hello', 1)\n",
      "\n",
      "-------------------------------------------\n",
      "Time: 2019-05-27 15:03:38\n",
      "-------------------------------------------\n",
      "('garvit', 2)\n",
      "('hello', 1)\n",
      "\n"
     ]
    }
   ],
   "source": [
    "words = lines.map(lambda x:x.replace('?','').replace(',','')).flatMap(lambda x: x.split(\" \")).map(lambda x:(x,1))\n",
    "words.reduceByKeyAndWindow(lambda x,y:(x+y), 40,20).pprint()\n",
    "# lines.reduceByKeyAndWindow(lambda x,y:(x+y),30,10).pprint()\n",
    "ssc.start()"
   ]
  },
  {
   "cell_type": "code",
   "execution_count": 21,
   "metadata": {},
   "outputs": [],
   "source": [
    "sc.stop()\n",
    "ssc.stop()"
   ]
  },
  {
   "cell_type": "markdown",
   "metadata": {},
   "source": [
    "### countByValueAndWindow()\n",
    "\n",
    "same as \"countByValue()\" but applied on \"window\""
   ]
  },
  {
   "cell_type": "code",
   "execution_count": 5,
   "metadata": {},
   "outputs": [],
   "source": [
    "import findspark\n",
    "findspark.init()\n",
    "\n",
    "import pyspark\n",
    "import pyspark.sql as sql\n",
    "from pyspark.streaming import StreamingContext\n",
    "ss = sql.SparkSession.builder.appName('streaming').getOrCreate()\n",
    "sc = ss.sparkContext\n",
    "ssc = StreamingContext(sc,1)\n",
    "ssc.checkpoint(\"checkpoint\")"
   ]
  },
  {
   "cell_type": "code",
   "execution_count": 6,
   "metadata": {},
   "outputs": [],
   "source": [
    "lines = ssc.socketTextStream('localhost',5551)"
   ]
  },
  {
   "cell_type": "code",
   "execution_count": 7,
   "metadata": {},
   "outputs": [
    {
     "name": "stdout",
     "output_type": "stream",
     "text": [
      "-------------------------------------------\n",
      "Time: 2019-05-27 22:07:32\n",
      "-------------------------------------------\n",
      "(('hello', 1), 1)\n",
      "(('garvit', 1), 2)\n",
      "(('aman', 1), 1)\n",
      "(('mohan', 1), 1)\n",
      "\n"
     ]
    }
   ],
   "source": [
    "count = lines.map(lambda x:(x,1))\n",
    "count.countByValueAndWindow(30,20).pprint()\n",
    "ssc.start()"
   ]
  },
  {
   "cell_type": "code",
   "execution_count": 8,
   "metadata": {},
   "outputs": [],
   "source": [
    "ssc.stop()"
   ]
  },
  {
   "cell_type": "markdown",
   "metadata": {},
   "source": [
    "### foreachRDD()"
   ]
  },
  {
   "cell_type": "code",
   "execution_count": 47,
   "metadata": {},
   "outputs": [],
   "source": [
    "ON HOLD"
   ]
  },
  {
   "cell_type": "code",
   "execution_count": null,
   "metadata": {},
   "outputs": [],
   "source": []
  },
  {
   "cell_type": "code",
   "execution_count": null,
   "metadata": {},
   "outputs": [],
   "source": []
  },
  {
   "cell_type": "code",
   "execution_count": null,
   "metadata": {},
   "outputs": [],
   "source": []
  },
  {
   "cell_type": "code",
   "execution_count": null,
   "metadata": {},
   "outputs": [],
   "source": []
  },
  {
   "cell_type": "code",
   "execution_count": null,
   "metadata": {},
   "outputs": [],
   "source": []
  },
  {
   "cell_type": "code",
   "execution_count": null,
   "metadata": {},
   "outputs": [],
   "source": []
  },
  {
   "cell_type": "markdown",
   "metadata": {},
   "source": [
    "## Testing Area"
   ]
  },
  {
   "cell_type": "code",
   "execution_count": 10,
   "metadata": {},
   "outputs": [],
   "source": [
    "import findspark\n",
    "findspark.init()\n",
    "\n",
    "import pyspark\n",
    "import pyspark.sql as sql\n",
    "ss = sql.SparkSession.builder.appName('RDD Practice').getOrCreate()\n",
    "sc = ss.sparkContext"
   ]
  },
  {
   "cell_type": "code",
   "execution_count": 23,
   "metadata": {},
   "outputs": [
    {
     "data": {
      "text/plain": [
       "['hello garvit', 'how are you?', 'I am fine', 'hello Ankit, How are you?']"
      ]
     },
     "execution_count": 23,
     "metadata": {},
     "output_type": "execute_result"
    }
   ],
   "source": [
    "data = sc.textFile('a.txt')\n",
    "data.collect()"
   ]
  },
  {
   "cell_type": "code",
   "execution_count": 24,
   "metadata": {},
   "outputs": [
    {
     "data": {
      "text/plain": [
       "[('hello', 1),\n",
       " ('garvit', 1),\n",
       " ('how', 1),\n",
       " ('are', 1),\n",
       " ('you', 1),\n",
       " ('I', 1),\n",
       " ('am', 1),\n",
       " ('fine', 1),\n",
       " ('hello', 1),\n",
       " ('Ankit', 1),\n",
       " ('How', 1),\n",
       " ('are', 1),\n",
       " ('you', 1)]"
      ]
     },
     "execution_count": 24,
     "metadata": {},
     "output_type": "execute_result"
    }
   ],
   "source": [
    "RDD1 = data.map(lambda x:x.replace('?','').replace(',','')).flatMap(lambda x: x.split(\" \")).map(lambda x:(x,1))\n",
    "RDD1.collect()"
   ]
  },
  {
   "cell_type": "code",
   "execution_count": 29,
   "metadata": {},
   "outputs": [
    {
     "data": {
      "text/plain": [
       "defaultdict(int,\n",
       "            {('hello', 1): 2,\n",
       "             ('garvit', 1): 1,\n",
       "             ('how', 1): 1,\n",
       "             ('are', 1): 2,\n",
       "             ('you', 1): 2,\n",
       "             ('I', 1): 1,\n",
       "             ('am', 1): 1,\n",
       "             ('fine', 1): 1,\n",
       "             ('Ankit', 1): 1,\n",
       "             ('How', 1): 1})"
      ]
     },
     "execution_count": 29,
     "metadata": {},
     "output_type": "execute_result"
    }
   ],
   "source": [
    "RDD2 = RDD1.countByValue()\n",
    "RDD2"
   ]
  },
  {
   "cell_type": "code",
   "execution_count": 21,
   "metadata": {},
   "outputs": [],
   "source": [
    "x = sc.parallelize([1,2,3,4,5,6,7,8,9,10],2)"
   ]
  },
  {
   "cell_type": "code",
   "execution_count": 22,
   "metadata": {},
   "outputs": [
    {
     "data": {
      "text/plain": [
       "[1, 2, 3, 4, 5, 6, 7, 8, 9, 10]"
      ]
     },
     "execution_count": 22,
     "metadata": {},
     "output_type": "execute_result"
    }
   ],
   "source": [
    "x.collect()"
   ]
  },
  {
   "cell_type": "code",
   "execution_count": null,
   "metadata": {},
   "outputs": [],
   "source": [
    "summ = x.reduce()"
   ]
  },
  {
   "cell_type": "code",
   "execution_count": null,
   "metadata": {},
   "outputs": [],
   "source": []
  },
  {
   "cell_type": "code",
   "execution_count": null,
   "metadata": {},
   "outputs": [],
   "source": []
  },
  {
   "cell_type": "code",
   "execution_count": null,
   "metadata": {},
   "outputs": [],
   "source": []
  },
  {
   "cell_type": "code",
   "execution_count": null,
   "metadata": {},
   "outputs": [],
   "source": []
  },
  {
   "cell_type": "code",
   "execution_count": null,
   "metadata": {},
   "outputs": [],
   "source": []
  }
 ],
 "metadata": {
  "kernelspec": {
   "display_name": "Python 3",
   "language": "python",
   "name": "python3"
  },
  "language_info": {
   "codemirror_mode": {
    "name": "ipython",
    "version": 3
   },
   "file_extension": ".py",
   "mimetype": "text/x-python",
   "name": "python",
   "nbconvert_exporter": "python",
   "pygments_lexer": "ipython3",
   "version": "3.7.3"
  }
 },
 "nbformat": 4,
 "nbformat_minor": 2
}
